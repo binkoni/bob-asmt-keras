{
 "cells": [
  {
   "cell_type": "code",
   "execution_count": 3,
   "metadata": {},
   "outputs": [
    {
     "name": "stderr",
     "output_type": "stream",
     "text": [
      "Using TensorFlow backend.\n"
     ]
    }
   ],
   "source": [
    "from keras.datasets import imdb\n",
    "from keras.preprocessing import sequence\n",
    "from keras.models import Sequential\n",
    "from keras.layers import Dense, Embedding, LSTM\n",
    "from keras.layers import Flatten"
   ]
  },
  {
   "cell_type": "code",
   "execution_count": 4,
   "metadata": {},
   "outputs": [],
   "source": [
    "max_features = 20000\n",
    "# 20000번째로 많이 사용되는 단어까지만 데이터셋에 포함시킵니다. (즉 단어의 종류도 20000개라는 뜻입니다.)\n",
    "text_max_words = 200\n",
    "# 리뷰 당 단어 수를 200개로 제한합니다. 넘치는 단어들은 잘라냅니다."
   ]
  },
  {
   "cell_type": "code",
   "execution_count": 6,
   "metadata": {},
   "outputs": [
    {
     "name": "stdout",
     "output_type": "stream",
     "text": [
      "25000 25000 25000 25000\n"
     ]
    }
   ],
   "source": [
    "from keras.datasets import imdb\n",
    "(x_train, y_train), (x_test, y_test) = imdb.load_data(num_words=max_features)\n",
    "# x_* 변수는 영화 리뷰를 담는 리스트이고\n",
    "# 각각의 리뷰는 단어들의 리스트입니다.\n",
    "# y_* 변수는 영화 리뷰의 긍정 부정을 나타내는 값들의 리스트입니다.\n",
    "# *_train 변수는 훈련 셋이고 *_test 셋은 테스트 셋 입니다\n",
    "print(len(x_train), len(y_train), len(x_test), len(y_test))\n",
    "# num_words 가 20000이라고 데이터셋이 20000개라는 뜻은 아닙니다.\n",
    "# 데이터셋은 각각 25000개 입니다.\n",
    "print(y_train)"
   ]
  },
  {
   "cell_type": "code",
   "execution_count": 6,
   "metadata": {},
   "outputs": [],
   "source": [
    "x_val = x_train[20000:]\n",
    "y_val = y_train[20000:]\n",
    "x_train = x_train[:20000]\n",
    "y_train = y_train[:20000]\n",
    "\n",
    "# 훈련 셋은 데이터 셋에서 20000개 까지,\n",
    "# 검증(validation) 셋은 데이터 셋에서 5000개 까지로 나눕니다.\n",
    "print(len(x_train), len(y_train), len(x_val), len(y_val))\n",
    "\n",
    "for review in x_train:\n",
    "    print(len(review))\n",
    "# 현재는 각각의 리뷰의 단어 수가 모두 다릅니다."
   ]
  },
  {
   "cell_type": "code",
   "execution_count": 7,
   "metadata": {},
   "outputs": [],
   "source": [
    "from keras.preprocessing import sequence\n",
    "x_train = sequence.pad_sequences(x_train, maxlen=text_max_words)\n",
    "x_val = sequence.pad_sequences(x_val, maxlen=text_max_words)\n",
    "x_test = sequence.pad_sequences(x_test, maxlen=text_max_words)\n",
    "# 각 리뷰당의 단어 수를 모두 200개로 맞춥니다 부족한 단어들은 0으로 채워집니다. (padding)\n",
    "for review in x_train:\n",
    "    print(len(review))"
   ]
  },
  {
   "cell_type": "code",
   "execution_count": 8,
   "metadata": {},
   "outputs": [
    {
     "name": "stderr",
     "output_type": "stream",
     "text": [
      "WARNING: Logging before flag parsing goes to stderr.\n",
      "W0810 05:52:48.276514 140084719765120 deprecation_wrapper.py:119] From /home/gonapps/.local/share/virtualenvs/keras-hryKYpEs/lib/python3.7/site-packages/keras/backend/tensorflow_backend.py:74: The name tf.get_default_graph is deprecated. Please use tf.compat.v1.get_default_graph instead.\n",
      "\n",
      "W0810 05:52:48.319827 140084719765120 deprecation_wrapper.py:119] From /home/gonapps/.local/share/virtualenvs/keras-hryKYpEs/lib/python3.7/site-packages/keras/backend/tensorflow_backend.py:517: The name tf.placeholder is deprecated. Please use tf.compat.v1.placeholder instead.\n",
      "\n",
      "W0810 05:52:48.330308 140084719765120 deprecation_wrapper.py:119] From /home/gonapps/.local/share/virtualenvs/keras-hryKYpEs/lib/python3.7/site-packages/keras/backend/tensorflow_backend.py:4138: The name tf.random_uniform is deprecated. Please use tf.random.uniform instead.\n",
      "\n"
     ]
    }
   ],
   "source": [
    "model = Sequential()\n",
    "model.add(Embedding(max_features, 128))\n",
    "model.add(LSTM(128)) # mlp 예제와 다르게 LSTM 레이어를 사용하는 모습입니다\n",
    "# LSTM은 RNN의 일종으로 다른 모델과 달리 하나의 데이터 학습이 이전 데이터들의 학습의 영향을 받습니다\n",
    "model.add(Dense(1, activation='sigmoid'))"
   ]
  },
  {
   "cell_type": "code",
   "execution_count": 9,
   "metadata": {},
   "outputs": [
    {
     "name": "stderr",
     "output_type": "stream",
     "text": [
      "W0810 05:52:49.379846 140084719765120 deprecation_wrapper.py:119] From /home/gonapps/.local/share/virtualenvs/keras-hryKYpEs/lib/python3.7/site-packages/keras/optimizers.py:790: The name tf.train.Optimizer is deprecated. Please use tf.compat.v1.train.Optimizer instead.\n",
      "\n",
      "W0810 05:52:49.492976 140084719765120 deprecation_wrapper.py:119] From /home/gonapps/.local/share/virtualenvs/keras-hryKYpEs/lib/python3.7/site-packages/keras/backend/tensorflow_backend.py:3376: The name tf.log is deprecated. Please use tf.math.log instead.\n",
      "\n",
      "W0810 05:52:49.507753 140084719765120 deprecation.py:323] From /home/gonapps/.local/share/virtualenvs/keras-hryKYpEs/lib/python3.7/site-packages/tensorflow/python/ops/nn_impl.py:180: add_dispatch_support.<locals>.wrapper (from tensorflow.python.ops.array_ops) is deprecated and will be removed in a future version.\n",
      "Instructions for updating:\n",
      "Use tf.where in 2.0, which has the same broadcast rule as np.where\n"
     ]
    }
   ],
   "source": [
    "model.compile(loss='binary_crossentropy', optimizer='adam', metrics=['accuracy'])\n",
    "# 손실함수는 binary_crossentropy\n",
    "# 옵티마이저는 adam\n",
    "# 측정은 accuracy로 합니다"
   ]
  },
  {
   "cell_type": "code",
   "execution_count": 10,
   "metadata": {},
   "outputs": [
    {
     "name": "stderr",
     "output_type": "stream",
     "text": [
      "W0810 05:52:53.382362 140084719765120 deprecation_wrapper.py:119] From /home/gonapps/.local/share/virtualenvs/keras-hryKYpEs/lib/python3.7/site-packages/keras/backend/tensorflow_backend.py:986: The name tf.assign_add is deprecated. Please use tf.compat.v1.assign_add instead.\n",
      "\n"
     ]
    },
    {
     "name": "stdout",
     "output_type": "stream",
     "text": [
      "Train on 20000 samples, validate on 5000 samples\n",
      "Epoch 1/25\n",
      "20000/20000 [==============================] - 272s 14ms/step - loss: 0.4460 - acc: 0.7837 - val_loss: 0.3885 - val_acc: 0.8296\n",
      "Epoch 2/25\n",
      "20000/20000 [==============================] - 246s 12ms/step - loss: 0.2224 - acc: 0.9166 - val_loss: 0.3161 - val_acc: 0.8754\n",
      "Epoch 3/25\n",
      "20000/20000 [==============================] - 268s 13ms/step - loss: 0.1266 - acc: 0.9546 - val_loss: 0.3546 - val_acc: 0.8618\n",
      "Epoch 4/25\n",
      "20000/20000 [==============================] - 215s 11ms/step - loss: 0.1015 - acc: 0.9642 - val_loss: 0.4229 - val_acc: 0.8512\n",
      "Epoch 5/25\n",
      "20000/20000 [==============================] - 54s 3ms/step - loss: 0.0653 - acc: 0.9770 - val_loss: 0.4970 - val_acc: 0.8560\n",
      "Epoch 6/25\n",
      "20000/20000 [==============================] - 55s 3ms/step - loss: 0.0541 - acc: 0.9816 - val_loss: 0.6092 - val_acc: 0.8614\n",
      "Epoch 7/25\n",
      "20000/20000 [==============================] - 55s 3ms/step - loss: 0.0692 - acc: 0.9767 - val_loss: 0.5374 - val_acc: 0.8482\n",
      "Epoch 8/25\n",
      "20000/20000 [==============================] - 55s 3ms/step - loss: 0.0321 - acc: 0.9904 - val_loss: 0.6019 - val_acc: 0.8470\n",
      "Epoch 9/25\n",
      "20000/20000 [==============================] - 55s 3ms/step - loss: 0.0284 - acc: 0.9910 - val_loss: 0.6438 - val_acc: 0.8480\n",
      "Epoch 10/25\n",
      "20000/20000 [==============================] - 55s 3ms/step - loss: 0.0214 - acc: 0.9932 - val_loss: 0.6532 - val_acc: 0.8424\n",
      "Epoch 11/25\n",
      "20000/20000 [==============================] - 55s 3ms/step - loss: 0.0149 - acc: 0.9958 - val_loss: 0.7419 - val_acc: 0.8548\n",
      "Epoch 12/25\n",
      "20000/20000 [==============================] - 55s 3ms/step - loss: 0.0212 - acc: 0.9932 - val_loss: 0.7003 - val_acc: 0.8294\n",
      "Epoch 13/25\n",
      "20000/20000 [==============================] - 55s 3ms/step - loss: 0.0191 - acc: 0.9947 - val_loss: 0.7962 - val_acc: 0.8412\n",
      "Epoch 14/25\n",
      "20000/20000 [==============================] - 56s 3ms/step - loss: 0.0166 - acc: 0.9947 - val_loss: 0.8369 - val_acc: 0.8596\n",
      "Epoch 15/25\n",
      "20000/20000 [==============================] - 54s 3ms/step - loss: 0.0031 - acc: 0.9991 - val_loss: 0.9038 - val_acc: 0.8436\n",
      "Epoch 16/25\n",
      "20000/20000 [==============================] - 55s 3ms/step - loss: 0.0288 - acc: 0.9905 - val_loss: 0.6990 - val_acc: 0.8458\n",
      "Epoch 17/25\n",
      "20000/20000 [==============================] - 55s 3ms/step - loss: 0.0293 - acc: 0.9910 - val_loss: 0.7264 - val_acc: 0.8458\n",
      "Epoch 18/25\n",
      "20000/20000 [==============================] - 55s 3ms/step - loss: 0.0086 - acc: 0.9979 - val_loss: 0.7847 - val_acc: 0.8520\n",
      "Epoch 19/25\n",
      "20000/20000 [==============================] - 55s 3ms/step - loss: 0.0013 - acc: 0.9997 - val_loss: 0.9477 - val_acc: 0.8582\n",
      "Epoch 20/25\n",
      "20000/20000 [==============================] - 55s 3ms/step - loss: 0.0110 - acc: 0.9967 - val_loss: 0.7793 - val_acc: 0.8588\n",
      "Epoch 21/25\n",
      "20000/20000 [==============================] - 55s 3ms/step - loss: 0.0112 - acc: 0.9968 - val_loss: 0.7723 - val_acc: 0.8518\n",
      "Epoch 22/25\n",
      "20000/20000 [==============================] - 55s 3ms/step - loss: 0.0154 - acc: 0.9955 - val_loss: 0.7452 - val_acc: 0.8566\n",
      "Epoch 23/25\n",
      "20000/20000 [==============================] - 55s 3ms/step - loss: 0.0046 - acc: 0.9988 - val_loss: 0.8473 - val_acc: 0.8608\n",
      "Epoch 24/25\n",
      "20000/20000 [==============================] - 54s 3ms/step - loss: 6.7763e-04 - acc: 1.0000 - val_loss: 0.9813 - val_acc: 0.8596\n",
      "Epoch 25/25\n",
      "20000/20000 [==============================] - 55s 3ms/step - loss: 1.5044e-04 - acc: 1.0000 - val_loss: 1.0373 - val_acc: 0.8608\n"
     ]
    }
   ],
   "source": [
    "hist = model.fit(x_train, y_train, epochs=25, batch_size=64, validation_data=(x_val, y_val))\n",
    "# 훈련 셋으로 훈련하고, 검증 셋으로 검증합니다. 테스트 셋은 아직 사용하지 않습니다"
   ]
  },
  {
   "cell_type": "code",
   "execution_count": 11,
   "metadata": {},
   "outputs": [
    {
     "data": {
      "image/png": "[encoded data removed]",
      "text/plain": [
       "<Figure size 432x288 with 2 Axes>"
      ]
     },
     "metadata": {
      "needs_background": "light"
     },
     "output_type": "display_data"
    }
   ],
   "source": [
    "%matplotlib inline\n",
    "import matplotlib.pyplot as plt\n",
    "fig, loss_ax = plt.subplots()\n",
    "acc_ax = loss_ax.twinx()\n",
    "loss_ax.plot(hist.history['loss'], 'y', label='train loss')\n",
    "loss_ax.plot(hist.history['val_loss'], 'r', label='val loss')\n",
    "loss_ax.set_ylim([-0.2, 1.2])\n",
    "acc_ax.plot(hist.history['acc'], 'b', label='train acc')\n",
    "acc_ax.plot(hist.history['val_acc'], 'g', label='val acc')\n",
    "acc_ax.set_ylim([-0.2, 1.2])\n",
    "loss_ax.set_xlabel('epoch')\n",
    "loss_ax.set_ylabel('loss')ㄴ\n",
    "acc_ax.set_ylabel('accuray')\n",
    "loss_ax.legend(loc='upper left')\n",
    "acc_ax.legend(loc='lower left')\n",
    "plt.show()"
   ]
  },
  {
   "cell_type": "code",
   "execution_count": 12,
   "metadata": {},
   "outputs": [
    {
     "name": "stdout",
     "output_type": "stream",
     "text": [
      "25000/25000 [==============================] - 14s 548us/step\n",
      "## evaluation loss and_metrics ##\n",
      "[1.1350847533035278, 0.8490799999809265]\n"
     ]
    }
   ],
   "source": [
    "loss_and_metrics = model.evaluate(x_test, y_test, batch_size=64)\n",
    "print('## evaluation loss and_metrics ##')\n",
    "print(loss_and_metrics)\n",
    "# 한 번도 사용하지 않은 테스트 셋으로 모델의 성능을 측정합니다."
   ]
  }
 ],
 "metadata": {
  "kernelspec": {
   "display_name": "Python 3",
   "language": "python",
   "name": "python3"
  },
  "language_info": {
   "codemirror_mode": {
    "name": "ipython",
    "version": 3
   },
   "file_extension": ".py",
   "mimetype": "text/x-python",
   "name": "python",
   "nbconvert_exporter": "python",
   "pygments_lexer": "ipython3",
   "version": "3.7.3"
  }
 },
 "nbformat": 4,
 "nbformat_minor": 2
}
