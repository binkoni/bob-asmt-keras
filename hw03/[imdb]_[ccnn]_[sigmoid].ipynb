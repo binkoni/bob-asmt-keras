{
 "cells": [
  {
   "cell_type": "code",
   "execution_count": 1,
   "metadata": {},
   "outputs": [
    {
     "name": "stderr",
     "output_type": "stream",
     "text": [
      "Using TensorFlow backend.\n"
     ]
    }
   ],
   "source": [
    "from keras.datasets import imdb\n",
    "from keras.preprocessing import sequence\n",
    "from keras.models import Sequential\n",
    "from keras.layers import Dense, Embedding, LSTM\n",
    "from keras.layers import Flatten, Dropout\n",
    "from keras.layers import Conv1D, GlobalMaxPooling1D"
   ]
  },
  {
   "cell_type": "code",
   "execution_count": 2,
   "metadata": {},
   "outputs": [],
   "source": [
    "max_features = 20000\n",
    "text_max_words = 200"
   ]
  },
  {
   "cell_type": "code",
   "execution_count": 3,
   "metadata": {},
   "outputs": [],
   "source": [
    "(x_train, y_train), (x_test, y_test) = imdb.load_data(num_words=max_features)"
   ]
  },
  {
   "cell_type": "code",
   "execution_count": 4,
   "metadata": {},
   "outputs": [],
   "source": [
    "x_val = x_train[max_features:]\n",
    "y_val = y_train[max_features:]\n",
    "x_train = x_train[:max_features]\n",
    "y_train = y_train[:max_features]"
   ]
  },
  {
   "cell_type": "code",
   "execution_count": 5,
   "metadata": {},
   "outputs": [],
   "source": [
    "x_train = sequence.pad_sequences(x_train, maxlen=text_max_words)\n",
    "x_val = sequence.pad_sequences(x_val, maxlen=text_max_words)\n",
    "x_test = sequence.pad_sequences(x_test, maxlen=text_max_words)"
   ]
  },
  {
   "cell_type": "code",
   "execution_count": 6,
   "metadata": {},
   "outputs": [
    {
     "name": "stderr",
     "output_type": "stream",
     "text": [
      "WARNING: Logging before flag parsing goes to stderr.\n",
      "W0810 06:52:45.817467 139983435064960 deprecation_wrapper.py:119] From /home/gonapps/.local/share/virtualenvs/keras-hryKYpEs/lib/python3.7/site-packages/keras/backend/tensorflow_backend.py:74: The name tf.get_default_graph is deprecated. Please use tf.compat.v1.get_default_graph instead.\n",
      "\n",
      "W0810 06:52:45.861347 139983435064960 deprecation_wrapper.py:119] From /home/gonapps/.local/share/virtualenvs/keras-hryKYpEs/lib/python3.7/site-packages/keras/backend/tensorflow_backend.py:517: The name tf.placeholder is deprecated. Please use tf.compat.v1.placeholder instead.\n",
      "\n",
      "W0810 06:52:45.868027 139983435064960 deprecation_wrapper.py:119] From /home/gonapps/.local/share/virtualenvs/keras-hryKYpEs/lib/python3.7/site-packages/keras/backend/tensorflow_backend.py:4138: The name tf.random_uniform is deprecated. Please use tf.random.uniform instead.\n",
      "\n",
      "W0810 06:52:45.913190 139983435064960 deprecation_wrapper.py:119] From /home/gonapps/.local/share/virtualenvs/keras-hryKYpEs/lib/python3.7/site-packages/keras/backend/tensorflow_backend.py:133: The name tf.placeholder_with_default is deprecated. Please use tf.compat.v1.placeholder_with_default instead.\n",
      "\n",
      "W0810 06:52:45.928331 139983435064960 deprecation.py:506] From /home/gonapps/.local/share/virtualenvs/keras-hryKYpEs/lib/python3.7/site-packages/keras/backend/tensorflow_backend.py:3445: calling dropout (from tensorflow.python.ops.nn_ops) with keep_prob is deprecated and will be removed in a future version.\n",
      "Instructions for updating:\n",
      "Please use `rate` instead of `keep_prob`. Rate should be set to `rate = 1 - keep_prob`.\n"
     ]
    }
   ],
   "source": [
    "model = Sequential()\n",
    "model.add(Embedding(max_features, 128, input_length=text_max_words))\n",
    "model.add(Dropout(0.2))\n",
    "model.add(Conv1D(256,\n",
    "                 3,\n",
    "                 padding='valid',\n",
    "                 activation='relu',\n",
    "                 strides=1))\n",
    "model.add(GlobalMaxPooling1D())\n",
    "model.add(Dense(128, activation='relu'))\n",
    "model.add(Dropout(0.2))\n",
    "model.add(Dense(1, activation='sigmoid'))"
   ]
  },
  {
   "cell_type": "code",
   "execution_count": 7,
   "metadata": {},
   "outputs": [
    {
     "name": "stderr",
     "output_type": "stream",
     "text": [
      "W0810 06:52:49.269876 139983435064960 deprecation_wrapper.py:119] From /home/gonapps/.local/share/virtualenvs/keras-hryKYpEs/lib/python3.7/site-packages/keras/optimizers.py:790: The name tf.train.Optimizer is deprecated. Please use tf.compat.v1.train.Optimizer instead.\n",
      "\n",
      "W0810 06:52:49.387679 139983435064960 deprecation_wrapper.py:119] From /home/gonapps/.local/share/virtualenvs/keras-hryKYpEs/lib/python3.7/site-packages/keras/backend/tensorflow_backend.py:3376: The name tf.log is deprecated. Please use tf.math.log instead.\n",
      "\n",
      "W0810 06:52:49.402691 139983435064960 deprecation.py:323] From /home/gonapps/.local/share/virtualenvs/keras-hryKYpEs/lib/python3.7/site-packages/tensorflow/python/ops/nn_impl.py:180: add_dispatch_support.<locals>.wrapper (from tensorflow.python.ops.array_ops) is deprecated and will be removed in a future version.\n",
      "Instructions for updating:\n",
      "Use tf.where in 2.0, which has the same broadcast rule as np.where\n"
     ]
    }
   ],
   "source": [
    "model.compile(loss='binary_crossentropy', optimizer='adam', metrics=['accuracy'])"
   ]
  },
  {
   "cell_type": "code",
   "execution_count": 9,
   "metadata": {},
   "outputs": [
    {
     "name": "stdout",
     "output_type": "stream",
     "text": [
      "Train on 20000 samples, validate on 5000 samples\n",
      "Epoch 1/25\n",
      "20000/20000 [==============================] - 75s 4ms/step - loss: 0.0865 - acc: 0.9721 - val_loss: 0.3045 - val_acc: 0.8920\n",
      "Epoch 2/25\n",
      "20000/20000 [==============================] - 71s 4ms/step - loss: 0.0231 - acc: 0.9945 - val_loss: 0.3557 - val_acc: 0.8926\n",
      "Epoch 3/25\n",
      "20000/20000 [==============================] - 71s 4ms/step - loss: 0.0061 - acc: 0.9993 - val_loss: 0.4005 - val_acc: 0.8922\n",
      "Epoch 4/25\n",
      "20000/20000 [==============================] - 70s 3ms/step - loss: 0.0019 - acc: 0.9997 - val_loss: 0.4417 - val_acc: 0.8914\n",
      "Epoch 5/25\n",
      "20000/20000 [==============================] - 72s 4ms/step - loss: 0.0011 - acc: 1.0000 - val_loss: 0.4744 - val_acc: 0.8900\n",
      "Epoch 6/25\n",
      "20000/20000 [==============================] - 69s 3ms/step - loss: 4.9612e-04 - acc: 1.0000 - val_loss: 0.4950 - val_acc: 0.8926\n",
      "Epoch 7/25\n",
      "20000/20000 [==============================] - 69s 3ms/step - loss: 4.3020e-04 - acc: 1.0000 - val_loss: 0.5061 - val_acc: 0.8930\n",
      "Epoch 8/25\n",
      "20000/20000 [==============================] - 69s 3ms/step - loss: 2.1663e-04 - acc: 1.0000 - val_loss: 0.5229 - val_acc: 0.8936\n",
      "Epoch 9/25\n",
      "20000/20000 [==============================] - 69s 3ms/step - loss: 1.6471e-04 - acc: 1.0000 - val_loss: 0.5365 - val_acc: 0.8946\n",
      "Epoch 10/25\n",
      "20000/20000 [==============================] - 310s 16ms/step - loss: 1.3533e-04 - acc: 1.0000 - val_loss: 0.5563 - val_acc: 0.8948\n",
      "Epoch 11/25\n",
      "20000/20000 [==============================] - 94s 5ms/step - loss: 1.1316e-04 - acc: 1.0000 - val_loss: 0.5582 - val_acc: 0.8924\n",
      "Epoch 12/25\n",
      "20000/20000 [==============================] - 90s 5ms/step - loss: 9.7658e-05 - acc: 1.0000 - val_loss: 0.5721 - val_acc: 0.8942\n",
      "Epoch 13/25\n",
      "20000/20000 [==============================] - 82s 4ms/step - loss: 1.2222e-04 - acc: 1.0000 - val_loss: 0.5837 - val_acc: 0.8922\n",
      "Epoch 14/25\n",
      "20000/20000 [==============================] - 85s 4ms/step - loss: 9.3255e-05 - acc: 1.0000 - val_loss: 0.5987 - val_acc: 0.8918\n",
      "Epoch 15/25\n",
      "20000/20000 [==============================] - 101s 5ms/step - loss: 5.1664e-05 - acc: 1.0000 - val_loss: 0.6144 - val_acc: 0.8934\n",
      "Epoch 16/25\n",
      "20000/20000 [==============================] - 101s 5ms/step - loss: 0.0029 - acc: 0.9992 - val_loss: 0.6987 - val_acc: 0.8640\n",
      "Epoch 17/25\n",
      "20000/20000 [==============================] - 100s 5ms/step - loss: 0.0477 - acc: 0.9832 - val_loss: 0.5589 - val_acc: 0.8658\n",
      "Epoch 18/25\n",
      "20000/20000 [==============================] - 88s 4ms/step - loss: 0.0124 - acc: 0.9963 - val_loss: 0.5083 - val_acc: 0.8826\n",
      "Epoch 19/25\n",
      "20000/20000 [==============================] - 87s 4ms/step - loss: 0.0042 - acc: 0.9984 - val_loss: 0.5776 - val_acc: 0.8868\n",
      "Epoch 20/25\n",
      "20000/20000 [==============================] - 86s 4ms/step - loss: 0.0022 - acc: 0.9995 - val_loss: 0.7432 - val_acc: 0.8702\n",
      "Epoch 21/25\n",
      "20000/20000 [==============================] - 87s 4ms/step - loss: 6.6951e-04 - acc: 0.9999 - val_loss: 0.6592 - val_acc: 0.8892\n",
      "Epoch 22/25\n",
      "20000/20000 [==============================] - 88s 4ms/step - loss: 6.2287e-04 - acc: 0.9999 - val_loss: 0.6798 - val_acc: 0.8894\n",
      "Epoch 23/25\n",
      "20000/20000 [==============================] - 86s 4ms/step - loss: 3.0182e-04 - acc: 0.9999 - val_loss: 0.6887 - val_acc: 0.8886\n",
      "Epoch 24/25\n",
      "20000/20000 [==============================] - 85s 4ms/step - loss: 7.9013e-04 - acc: 0.9997 - val_loss: 0.6745 - val_acc: 0.8842\n",
      "Epoch 25/25\n",
      "20000/20000 [==============================] - 89s 4ms/step - loss: 0.0011 - acc: 0.9997 - val_loss: 0.8821 - val_acc: 0.8694\n"
     ]
    }
   ],
   "source": [
    "hist = model.fit(x_train, y_train, epochs=25, batch_size=64, validation_data=(x_val, y_val))"
   ]
  },
  {
   "cell_type": "code",
   "execution_count": 11,
   "metadata": {},
   "outputs": [
    {
     "data": {
      "image/png": "[encoded data removed]",
      "text/plain": [
       "<Figure size 432x288 with 2 Axes>"
      ]
     },
     "metadata": {
      "needs_background": "light"
     },
     "output_type": "display_data"
    }
   ],
   "source": [
    "%matplotlib inline\n",
    "import matplotlib.pyplot as plt\n",
    "fig, loss_ax = plt.subplots()\n",
    "acc_ax = loss_ax.twinx()\n",
    "loss_ax.plot(hist.history['loss'], 'y', label='train loss')\n",
    "loss_ax.plot(hist.history['val_loss'], 'r', label='val loss')\n",
    "loss_ax.set_ylim([-0.2, 1.2])\n",
    "acc_ax.plot(hist.history['acc'], 'b', label='train acc')\n",
    "acc_ax.plot(hist.history['val_acc'], 'g', label='val acc')\n",
    "acc_ax.set_ylim([-0.2, 1.2])\n",
    "loss_ax.set_xlabel('epoch')\n",
    "loss_ax.set_ylabel('loss')\n",
    "acc_ax.set_ylabel('accuray')\n",
    "loss_ax.legend(loc='upper left')\n",
    "acc_ax.legend(loc='lower left')\n",
    "plt.show()"
   ]
  },
  {
   "cell_type": "code",
   "execution_count": 12,
   "metadata": {},
   "outputs": [
    {
     "name": "stdout",
     "output_type": "stream",
     "text": [
      "25000/25000 [==============================] - 18s 732us/step\n",
      "## evaluation loss and_metrics ##\n",
      "[0.9680549689674377, 0.8574000000190735]\n"
     ]
    }
   ],
   "source": [
    "loss_and_metrics = model.evaluate(x_test, y_test, batch_size=64)\n",
    "print('## evaluation loss and_metrics ##')\n",
    "print(loss_and_metrics)"
   ]
  }
 ],
 "metadata": {
  "kernelspec": {
   "display_name": "Python 3",
   "language": "python",
   "name": "python3"
  },
  "language_info": {
   "codemirror_mode": {
    "name": "ipython",
    "version": 3
   },
   "file_extension": ".py",
   "mimetype": "text/x-python",
   "name": "python",
   "nbconvert_exporter": "python",
   "pygments_lexer": "ipython3",
   "version": "3.7.3"
  }
 },
 "nbformat": 4,
 "nbformat_minor": 2
}
