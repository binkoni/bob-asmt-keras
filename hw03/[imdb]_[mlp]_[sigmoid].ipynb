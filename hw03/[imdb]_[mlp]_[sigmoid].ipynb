{
 "cells": [
  {
   "cell_type": "code",
   "execution_count": 36,
   "metadata": {},
   "outputs": [],
   "source": [
    "max_features = 20000\n",
    "text_max_words = 200"
   ]
  },
  {
   "cell_type": "code",
   "execution_count": 37,
   "metadata": {},
   "outputs": [],
   "source": [
    "from keras.datasets import imdb\n",
    "(x_train, y_train), (x_test, y_test) = imdb.load_data(num_words=max_features)"
   ]
  },
  {
   "cell_type": "code",
   "execution_count": 38,
   "metadata": {},
   "outputs": [],
   "source": [
    "#print(x_train)"
   ]
  },
  {
   "cell_type": "code",
   "execution_count": 39,
   "metadata": {},
   "outputs": [],
   "source": [
    "x_val = x_train[max_features:]\n",
    "y_val = y_train[max_features:]\n",
    "x_train = x_train[:max_features]\n",
    "y_train = y_train[:max_features]"
   ]
  },
  {
   "cell_type": "code",
   "execution_count": 40,
   "metadata": {},
   "outputs": [],
   "source": [
    "from keras.preprocessing import sequence\n",
    "x_train = sequence.pad_sequences(x_train, maxlen=text_max_words)\n",
    "x_val = sequence.pad_sequences(x_val, maxlen=text_max_words)\n",
    "x_test = sequence.pad_sequences(x_test, maxlen=text_max_words)"
   ]
  },
  {
   "cell_type": "code",
   "execution_count": 41,
   "metadata": {},
   "outputs": [],
   "source": [
    "from keras import models\n",
    "from keras import layers\n",
    "model = models.Sequential()\n",
    "model.add(layers.Embedding(max_features, 128, input_length=text_max_words))\n",
    "model.add(layers.Flatten())\n",
    "model.add(layers.Dense(256, activation='relu'))\n",
    "model.add(layers.Dense(1, activation='sigmoid'))"
   ]
  },
  {
   "cell_type": "code",
   "execution_count": 42,
   "metadata": {},
   "outputs": [],
   "source": [
    "model = models.Sequential()\n",
    "model.add(layers.Embedding(max_features, 128, input_length=text_max_words))\n",
    "model.add(layers.Flatten())\n",
    "model.add(layers.Dense(256, activation='relu'))\n",
    "model.add(layers.Dense(1, activation='sigmoid'))"
   ]
  },
  {
   "cell_type": "code",
   "execution_count": 43,
   "metadata": {},
   "outputs": [],
   "source": [
    "model.compile(loss='binary_crossentropy', optimizer='adam', metrics=['accuracy'])"
   ]
  },
  {
   "cell_type": "code",
   "execution_count": 56,
   "metadata": {},
   "outputs": [
    {
     "name": "stdout",
     "output_type": "stream",
     "text": [
      "Train on 20000 samples, validate on 5000 samples\n",
      "Epoch 1/25\n",
      "20000/20000 [==============================] - 39s 2ms/step - loss: 0.0028 - acc: 0.9997 - val_loss: 0.5688 - val_acc: 0.8518\n",
      "Epoch 2/25\n",
      "20000/20000 [==============================] - 39s 2ms/step - loss: 1.9274e-04 - acc: 1.0000 - val_loss: 0.5945 - val_acc: 0.8528\n",
      "Epoch 3/25\n",
      "20000/20000 [==============================] - 41s 2ms/step - loss: 9.8013e-05 - acc: 1.0000 - val_loss: 0.6131 - val_acc: 0.8532\n",
      "Epoch 4/25\n",
      "20000/20000 [==============================] - 46s 2ms/step - loss: 6.4505e-05 - acc: 1.0000 - val_loss: 0.6260 - val_acc: 0.8544\n",
      "Epoch 5/25\n",
      "20000/20000 [==============================] - 48s 2ms/step - loss: 4.5739e-05 - acc: 1.0000 - val_loss: 0.6387 - val_acc: 0.8552\n",
      "Epoch 6/25\n",
      "20000/20000 [==============================] - 48s 2ms/step - loss: 3.4022e-05 - acc: 1.0000 - val_loss: 0.6512 - val_acc: 0.8548\n",
      "Epoch 7/25\n",
      "20000/20000 [==============================] - 46s 2ms/step - loss: 2.5868e-05 - acc: 1.0000 - val_loss: 0.6620 - val_acc: 0.8550\n",
      "Epoch 8/25\n",
      "20000/20000 [==============================] - 48s 2ms/step - loss: 2.0063e-05 - acc: 1.0000 - val_loss: 0.6725 - val_acc: 0.8568\n",
      "Epoch 9/25\n",
      "20000/20000 [==============================] - 42s 2ms/step - loss: 1.5924e-05 - acc: 1.0000 - val_loss: 0.6816 - val_acc: 0.8564\n",
      "Epoch 10/25\n",
      "20000/20000 [==============================] - 42s 2ms/step - loss: 1.2724e-05 - acc: 1.0000 - val_loss: 0.6903 - val_acc: 0.8568\n",
      "Epoch 11/25\n",
      "20000/20000 [==============================] - 43s 2ms/step - loss: 1.0292e-05 - acc: 1.0000 - val_loss: 0.6988 - val_acc: 0.8572\n",
      "Epoch 12/25\n",
      "20000/20000 [==============================] - 43s 2ms/step - loss: 8.3333e-06 - acc: 1.0000 - val_loss: 0.7075 - val_acc: 0.8578\n",
      "Epoch 13/25\n",
      "20000/20000 [==============================] - 43s 2ms/step - loss: 6.8334e-06 - acc: 1.0000 - val_loss: 0.7154 - val_acc: 0.8568\n",
      "Epoch 14/25\n",
      "20000/20000 [==============================] - 43s 2ms/step - loss: 5.6048e-06 - acc: 1.0000 - val_loss: 0.7243 - val_acc: 0.8582\n",
      "Epoch 15/25\n",
      "20000/20000 [==============================] - 42s 2ms/step - loss: 4.6416e-06 - acc: 1.0000 - val_loss: 0.7311 - val_acc: 0.8576\n",
      "Epoch 16/25\n",
      "20000/20000 [==============================] - 47s 2ms/step - loss: 3.8604e-06 - acc: 1.0000 - val_loss: 0.7383 - val_acc: 0.8570\n",
      "Epoch 17/25\n",
      "20000/20000 [==============================] - 46s 2ms/step - loss: 3.2050e-06 - acc: 1.0000 - val_loss: 0.7457 - val_acc: 0.8586\n",
      "Epoch 18/25\n",
      "20000/20000 [==============================] - 46s 2ms/step - loss: 2.6807e-06 - acc: 1.0000 - val_loss: 0.7524 - val_acc: 0.8580\n",
      "Epoch 19/25\n",
      "20000/20000 [==============================] - 46s 2ms/step - loss: 2.2448e-06 - acc: 1.0000 - val_loss: 0.7600 - val_acc: 0.8582\n",
      "Epoch 20/25\n",
      "20000/20000 [==============================] - 46s 2ms/step - loss: 1.8915e-06 - acc: 1.0000 - val_loss: 0.7673 - val_acc: 0.8586\n",
      "Epoch 21/25\n",
      "20000/20000 [==============================] - 46s 2ms/step - loss: 1.5952e-06 - acc: 1.0000 - val_loss: 0.7736 - val_acc: 0.8590\n",
      "Epoch 22/25\n",
      "20000/20000 [==============================] - 44s 2ms/step - loss: 1.3493e-06 - acc: 1.0000 - val_loss: 0.7799 - val_acc: 0.8584\n",
      "Epoch 23/25\n",
      "20000/20000 [==============================] - 41s 2ms/step - loss: 1.1416e-06 - acc: 1.0000 - val_loss: 0.7861 - val_acc: 0.8584\n",
      "Epoch 24/25\n",
      "20000/20000 [==============================] - 41s 2ms/step - loss: 9.7339e-07 - acc: 1.0000 - val_loss: 0.7932 - val_acc: 0.8600\n",
      "Epoch 25/25\n",
      "20000/20000 [==============================] - 41s 2ms/step - loss: 8.3245e-07 - acc: 1.0000 - val_loss: 0.7995 - val_acc: 0.8596\n"
     ]
    }
   ],
   "source": [
    "hist = model.fit(x_train, y_train, epochs=25, batch_size=64, validation_data=(x_val, y_val))"
   ]
  },
  {
   "cell_type": "code",
   "execution_count": 55,
   "metadata": {},
   "outputs": [
    {
     "data": {
      "image/png": "[encoded data removed]",
      "text/plain": [
       "<Figure size 432x288 with 2 Axes>"
      ]
     },
     "metadata": {
      "needs_background": "light"
     },
     "output_type": "display_data"
    }
   ],
   "source": [
    "%matplotlib inline\n",
    "import matplotlib.pyplot as plt\n",
    "fig, loss_ax = plt.subplots()\n",
    "acc_ax = loss_ax.twinx()\n",
    "loss_ax.plot(hist.history['loss'], 'y', label='train loss')\n",
    "loss_ax.plot(hist.history['val_loss'], 'r', label='val loss')\n",
    "loss_ax.set_ylim([-0.2, 1.2])\n",
    "acc_ax.plot(hist.history['acc'], 'b', label='train acc')\n",
    "acc_ax.plot(hist.history['val_acc'], 'g', label='val acc')\n",
    "acc_ax.set_ylim([-0.2, 1.2])\n",
    "loss_ax.set_xlabel('epoch')\n",
    "loss_ax.set_ylabel('loss')\n",
    "acc_ax.set_ylabel('accuray')\n",
    "loss_ax.legend(loc='upper left')\n",
    "acc_ax.legend(loc='lower left')\n",
    "plt.show()"
   ]
  },
  {
   "cell_type": "code",
   "execution_count": 53,
   "metadata": {},
   "outputs": [
    {
     "name": "stdout",
     "output_type": "stream",
     "text": [
      "25000/25000 [==============================] - 4s 168us/step\n",
      "## evaluation loss and_metrics ##\n",
      "[0.4782695237827301, 0.836560000038147]\n"
     ]
    }
   ],
   "source": [
    "loss_and_metrics = model.evaluate(x_test, y_test, batch_size=64)\n",
    "print('## evaluation loss and_metrics ##')\n",
    "print(loss_and_metrics)"
   ]
  }
 ],
 "metadata": {
  "kernelspec": {
   "display_name": "Python 3",
   "language": "python",
   "name": "python3"
  },
  "language_info": {
   "codemirror_mode": {
    "name": "ipython",
    "version": 3
   },
   "file_extension": ".py",
   "mimetype": "text/x-python",
   "name": "python",
   "nbconvert_exporter": "python",
   "pygments_lexer": "ipython3",
   "version": "3.7.3"
  }
 },
 "nbformat": 4,
 "nbformat_minor": 2
}
