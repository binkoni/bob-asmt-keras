{
 "cells": [
  {
   "cell_type": "code",
   "execution_count": 1,
   "metadata": {},
   "outputs": [
    {
     "name": "stderr",
     "output_type": "stream",
     "text": [
      "Using TensorFlow backend.\n"
     ]
    }
   ],
   "source": [
    "from keras.datasets import imdb\n",
    "from keras.preprocessing import sequence\n",
    "from keras.models import Sequential\n",
    "from keras.layers import Dense, Embedding, LSTM\n",
    "from keras.layers import Flatten, Dropout\n",
    "from keras.layers import Conv1D, MaxPooling1D"
   ]
  },
  {
   "cell_type": "code",
   "execution_count": 2,
   "metadata": {},
   "outputs": [],
   "source": [
    "max_features = 20000\n",
    "text_max_words = 200"
   ]
  },
  {
   "cell_type": "code",
   "execution_count": 3,
   "metadata": {},
   "outputs": [],
   "source": [
    "(x_train, y_train), (x_test, y_test) = imdb.load_data(num_words=max_features)"
   ]
  },
  {
   "cell_type": "code",
   "execution_count": 4,
   "metadata": {},
   "outputs": [],
   "source": [
    "x_val = x_train[20000:]\n",
    "y_val = y_train[20000:]\n",
    "x_train = x_train[:20000]\n",
    "y_train = y_train[:20000]"
   ]
  },
  {
   "cell_type": "code",
   "execution_count": 5,
   "metadata": {},
   "outputs": [],
   "source": [
    "x_train = sequence.pad_sequences(x_train, maxlen=text_max_words)\n",
    "x_val = sequence.pad_sequences(x_val, maxlen=text_max_words)\n",
    "x_test = sequence.pad_sequences(x_test, maxlen=text_max_words)"
   ]
  },
  {
   "cell_type": "code",
   "execution_count": 6,
   "metadata": {},
   "outputs": [
    {
     "name": "stderr",
     "output_type": "stream",
     "text": [
      "WARNING: Logging before flag parsing goes to stderr.\n",
      "W0810 06:54:37.681493 139999756277376 deprecation_wrapper.py:119] From /home/gonapps/.local/share/virtualenvs/keras-hryKYpEs/lib/python3.7/site-packages/keras/backend/tensorflow_backend.py:74: The name tf.get_default_graph is deprecated. Please use tf.compat.v1.get_default_graph instead.\n",
      "\n",
      "W0810 06:54:37.728997 139999756277376 deprecation_wrapper.py:119] From /home/gonapps/.local/share/virtualenvs/keras-hryKYpEs/lib/python3.7/site-packages/keras/backend/tensorflow_backend.py:517: The name tf.placeholder is deprecated. Please use tf.compat.v1.placeholder instead.\n",
      "\n",
      "W0810 06:54:37.732906 139999756277376 deprecation_wrapper.py:119] From /home/gonapps/.local/share/virtualenvs/keras-hryKYpEs/lib/python3.7/site-packages/keras/backend/tensorflow_backend.py:4138: The name tf.random_uniform is deprecated. Please use tf.random.uniform instead.\n",
      "\n",
      "W0810 06:54:37.794549 139999756277376 deprecation_wrapper.py:119] From /home/gonapps/.local/share/virtualenvs/keras-hryKYpEs/lib/python3.7/site-packages/keras/backend/tensorflow_backend.py:133: The name tf.placeholder_with_default is deprecated. Please use tf.compat.v1.placeholder_with_default instead.\n",
      "\n",
      "W0810 06:54:37.816287 139999756277376 deprecation.py:506] From /home/gonapps/.local/share/virtualenvs/keras-hryKYpEs/lib/python3.7/site-packages/keras/backend/tensorflow_backend.py:3445: calling dropout (from tensorflow.python.ops.nn_ops) with keep_prob is deprecated and will be removed in a future version.\n",
      "Instructions for updating:\n",
      "Please use `rate` instead of `keep_prob`. Rate should be set to `rate = 1 - keep_prob`.\n",
      "W0810 06:54:38.033819 139999756277376 deprecation_wrapper.py:119] From /home/gonapps/.local/share/virtualenvs/keras-hryKYpEs/lib/python3.7/site-packages/keras/backend/tensorflow_backend.py:3976: The name tf.nn.max_pool is deprecated. Please use tf.nn.max_pool2d instead.\n",
      "\n"
     ]
    }
   ],
   "source": [
    "model = Sequential()\n",
    "model.add(Embedding(max_features, 128, input_length=text_max_words))\n",
    "model.add(Dropout(0.2))\n",
    "model.add(Conv1D(256,\n",
    "                 3,\n",
    "                 padding='valid',\n",
    "                 activation='relu',\n",
    "                 strides=1))\n",
    "model.add(MaxPooling1D(pool_size=4))\n",
    "model.add(LSTM(128))\n",
    "model.add(Dense(1, activation='sigmoid'))"
   ]
  },
  {
   "cell_type": "code",
   "execution_count": 7,
   "metadata": {},
   "outputs": [
    {
     "name": "stderr",
     "output_type": "stream",
     "text": [
      "W0810 06:54:40.308037 139999756277376 deprecation_wrapper.py:119] From /home/gonapps/.local/share/virtualenvs/keras-hryKYpEs/lib/python3.7/site-packages/keras/optimizers.py:790: The name tf.train.Optimizer is deprecated. Please use tf.compat.v1.train.Optimizer instead.\n",
      "\n",
      "W0810 06:54:40.410242 139999756277376 deprecation_wrapper.py:119] From /home/gonapps/.local/share/virtualenvs/keras-hryKYpEs/lib/python3.7/site-packages/keras/backend/tensorflow_backend.py:3376: The name tf.log is deprecated. Please use tf.math.log instead.\n",
      "\n",
      "W0810 06:54:40.432384 139999756277376 deprecation.py:323] From /home/gonapps/.local/share/virtualenvs/keras-hryKYpEs/lib/python3.7/site-packages/tensorflow/python/ops/nn_impl.py:180: add_dispatch_support.<locals>.wrapper (from tensorflow.python.ops.array_ops) is deprecated and will be removed in a future version.\n",
      "Instructions for updating:\n",
      "Use tf.where in 2.0, which has the same broadcast rule as np.where\n"
     ]
    }
   ],
   "source": [
    "model.compile(loss='binary_crossentropy', optimizer='adam', metrics=['accuracy'])"
   ]
  },
  {
   "cell_type": "code",
   "execution_count": 11,
   "metadata": {},
   "outputs": [
    {
     "name": "stdout",
     "output_type": "stream",
     "text": [
      "Train on 20000 samples, validate on 5000 samples\n",
      "Epoch 1/25\n",
      "20000/20000 [==============================] - 130s 7ms/step - loss: 0.0961 - acc: 0.9675 - val_loss: 0.3708 - val_acc: 0.8626\n",
      "Epoch 2/25\n",
      "20000/20000 [==============================] - 127s 6ms/step - loss: 0.0497 - acc: 0.9849 - val_loss: 0.4416 - val_acc: 0.8610\n",
      "Epoch 3/25\n",
      "20000/20000 [==============================] - 355s 18ms/step - loss: 0.0300 - acc: 0.9906 - val_loss: 0.6027 - val_acc: 0.8424\n",
      "Epoch 4/25\n",
      "20000/20000 [==============================] - 169s 8ms/step - loss: 0.0254 - acc: 0.9913 - val_loss: 0.6555 - val_acc: 0.8592\n",
      "Epoch 5/25\n",
      "20000/20000 [==============================] - 156s 8ms/step - loss: 0.0152 - acc: 0.9953 - val_loss: 0.7620 - val_acc: 0.8498\n",
      "Epoch 6/25\n",
      "20000/20000 [==============================] - 168s 8ms/step - loss: 0.0130 - acc: 0.9960 - val_loss: 0.8138 - val_acc: 0.8580\n",
      "Epoch 7/25\n",
      "20000/20000 [==============================] - 184s 9ms/step - loss: 0.0178 - acc: 0.9940 - val_loss: 0.6946 - val_acc: 0.8612\n",
      "Epoch 8/25\n",
      "20000/20000 [==============================] - 162s 8ms/step - loss: 0.0107 - acc: 0.9966 - val_loss: 0.7806 - val_acc: 0.8638\n",
      "Epoch 9/25\n",
      "20000/20000 [==============================] - 163s 8ms/step - loss: 0.0101 - acc: 0.9968 - val_loss: 0.7537 - val_acc: 0.8610\n",
      "Epoch 10/25\n",
      "20000/20000 [==============================] - 161s 8ms/step - loss: 0.0079 - acc: 0.9974 - val_loss: 0.7272 - val_acc: 0.8530\n",
      "Epoch 11/25\n",
      "20000/20000 [==============================] - 160s 8ms/step - loss: 0.0140 - acc: 0.9948 - val_loss: 0.7349 - val_acc: 0.8544\n",
      "Epoch 12/25\n",
      "20000/20000 [==============================] - 138s 7ms/step - loss: 0.0047 - acc: 0.9988 - val_loss: 0.7982 - val_acc: 0.8592\n",
      "Epoch 13/25\n",
      "20000/20000 [==============================] - 113s 6ms/step - loss: 0.0011 - acc: 0.9998 - val_loss: 0.9829 - val_acc: 0.8602\n",
      "Epoch 14/25\n",
      "20000/20000 [==============================] - 112s 6ms/step - loss: 7.5132e-04 - acc: 0.9997 - val_loss: 1.0211 - val_acc: 0.8550\n",
      "Epoch 15/25\n",
      "20000/20000 [==============================] - 101s 5ms/step - loss: 0.0082 - acc: 0.9972 - val_loss: 0.8341 - val_acc: 0.8456\n",
      "Epoch 16/25\n",
      "20000/20000 [==============================] - 110s 5ms/step - loss: 0.0143 - acc: 0.9951 - val_loss: 0.7570 - val_acc: 0.8548\n",
      "Epoch 17/25\n",
      "20000/20000 [==============================] - 105s 5ms/step - loss: 0.0056 - acc: 0.9983 - val_loss: 0.8414 - val_acc: 0.8530\n",
      "Epoch 18/25\n",
      "20000/20000 [==============================] - 97s 5ms/step - loss: 0.0067 - acc: 0.9977 - val_loss: 0.9217 - val_acc: 0.8562\n",
      "Epoch 19/25\n",
      "20000/20000 [==============================] - 94s 5ms/step - loss: 0.0063 - acc: 0.9976 - val_loss: 0.8537 - val_acc: 0.8524\n",
      "Epoch 20/25\n",
      "20000/20000 [==============================] - 99s 5ms/step - loss: 0.0037 - acc: 0.9989 - val_loss: 0.8908 - val_acc: 0.8530\n",
      "Epoch 21/25\n",
      "20000/20000 [==============================] - 77s 4ms/step - loss: 0.0032 - acc: 0.9990 - val_loss: 0.8714 - val_acc: 0.8554\n",
      "Epoch 22/25\n",
      "20000/20000 [==============================] - 75s 4ms/step - loss: 0.0036 - acc: 0.9987 - val_loss: 0.9899 - val_acc: 0.8562\n",
      "Epoch 23/25\n",
      "20000/20000 [==============================] - 94s 5ms/step - loss: 0.0040 - acc: 0.9987 - val_loss: 0.9998 - val_acc: 0.8334\n",
      "Epoch 24/25\n",
      "20000/20000 [==============================] - 101s 5ms/step - loss: 0.0044 - acc: 0.9985 - val_loss: 0.8862 - val_acc: 0.8558\n",
      "Epoch 25/25\n",
      "20000/20000 [==============================] - 106s 5ms/step - loss: 0.0016 - acc: 0.9996 - val_loss: 0.9206 - val_acc: 0.8596\n"
     ]
    }
   ],
   "source": [
    "hist = model.fit(x_train, y_train, epochs=25, batch_size=64, validation_data=(x_val, y_val))"
   ]
  },
  {
   "cell_type": "code",
   "execution_count": 12,
   "metadata": {},
   "outputs": [
    {
     "data": {
      "image/png": "[encoded data removed]",
      "text/plain": [
       "<Figure size 432x288 with 2 Axes>"
      ]
     },
     "metadata": {
      "needs_background": "light"
     },
     "output_type": "display_data"
    }
   ],
   "source": [
    "%matplotlib inline\n",
    "import matplotlib.pyplot as plt\n",
    "fig, loss_ax = plt.subplots()\n",
    "acc_ax = loss_ax.twinx()\n",
    "loss_ax.plot(hist.history['loss'], 'y', label='train loss')\n",
    "loss_ax.plot(hist.history['val_loss'], 'r', label='val loss')\n",
    "loss_ax.set_ylim([-0.2, 1.2])\n",
    "acc_ax.plot(hist.history['acc'], 'b', label='train acc')\n",
    "acc_ax.plot(hist.history['val_acc'], 'g', label='val acc')\n",
    "acc_ax.set_ylim([-0.2, 1.2])\n",
    "loss_ax.set_xlabel('epoch')\n",
    "loss_ax.set_ylabel('loss')\n",
    "acc_ax.set_ylabel('accuray')\n",
    "loss_ax.legend(loc='upper left')\n",
    "acc_ax.legend(loc='lower left')\n",
    "plt.show()"
   ]
  },
  {
   "cell_type": "code",
   "execution_count": 13,
   "metadata": {},
   "outputs": [
    {
     "name": "stdout",
     "output_type": "stream",
     "text": [
      "25000/25000 [==============================] - 27s 1ms/step\n",
      "## evaluation loss and_metrics ##\n",
      "[1.0604128855514527, 0.838959999961853]\n"
     ]
    }
   ],
   "source": [
    "loss_and_metrics = model.evaluate(x_test, y_test, batch_size=64)\n",
    "print('## evaluation loss and_metrics ##')\n",
    "print(loss_and_metrics)"
   ]
  }
 ],
 "metadata": {
  "kernelspec": {
   "display_name": "Python 3",
   "language": "python",
   "name": "python3"
  },
  "language_info": {
   "codemirror_mode": {
    "name": "ipython",
    "version": 3
   },
   "file_extension": ".py",
   "mimetype": "text/x-python",
   "name": "python",
   "nbconvert_exporter": "python",
   "pygments_lexer": "ipython3",
   "version": "3.7.3"
  }
 },
 "nbformat": 4,
 "nbformat_minor": 2
}
